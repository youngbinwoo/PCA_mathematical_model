{
  "nbformat": 4,
  "nbformat_minor": 0,
  "metadata": {
    "colab": {
      "name": "Untitled11.ipynb",
      "provenance": [],
      "toc_visible": true,
      "authorship_tag": "ABX9TyPl6aWM7Dc10C15KyeE3R0V",
      "include_colab_link": true
    },
    "kernelspec": {
      "name": "python3",
      "display_name": "Python 3"
    }
  },
  "cells": [
    {
      "cell_type": "markdown",
      "metadata": {
        "id": "view-in-github",
        "colab_type": "text"
      },
      "source": [
        "<a href=\"https://colab.research.google.com/github/youngbinwoo/Principle_Component_Analysis/blob/master/PCA%20in%20python.ipynb\" target=\"_parent\"><img src=\"https://colab.research.google.com/assets/colab-badge.svg\" alt=\"Open In Colab\"/></a>"
      ]
    },
    {
      "cell_type": "markdown",
      "metadata": {
        "id": "odKJ5ih2Zc_N",
        "colab_type": "text"
      },
      "source": [
        "## Principle Component Analysis (PCA) in Python"
      ]
    },
    {
      "cell_type": "markdown",
      "metadata": {
        "id": "iqxAKB2cZncl",
        "colab_type": "text"
      },
      "source": [
        "### Introduction\n",
        "- Difficult to Comprehend, Compute, Visualize, Analyze, etc.\n",
        "- Reduce the dimensionality of a data set consisting of a large number of\n",
        "interrelated variables.\n",
        "- Retain as much as possible of the variation present in the data set.\n",
        "- Transform to a new set of variables, the principal components, which are\n",
        "uncorrelated, and which are ordered so that the first few retain most of the\n",
        "variation present in all of the original variables.\n",
        "- How to compute : Eigendecomposition or Singular Value Decomposition\n",
        "- Identify some linear trends and simple patterns in a group of samples."
      ]
    },
    {
      "cell_type": "markdown",
      "metadata": {
        "id": "Uj_fWUrwZp7-",
        "colab_type": "text"
      },
      "source": [
        "#### Data load"
      ]
    },
    {
      "cell_type": "markdown",
      "metadata": {
        "id": "nzfzFE2LZth9",
        "colab_type": "text"
      },
      "source": [
        "##### Data link : http://yatani.jp/teaching/doku.php?id=hcistats:PCA"
      ]
    },
    {
      "cell_type": "code",
      "metadata": {
        "id": "jO4l2yfgZvuU",
        "colab_type": "code",
        "colab": {
          "base_uri": "https://localhost:8080/",
          "height": 195
        },
        "outputId": "4a972398-b615-4e6b-b74f-63074ef4f2c1"
      },
      "source": [
        "import pandas as pd\n",
        "import numpy as np\n",
        "\n",
        "df = pd.read_excel('pcaex.xlsx')\n",
        "df.head()"
      ],
      "execution_count": 3,
      "outputs": [
        {
          "output_type": "execute_result",
          "data": {
            "text/html": [
              "<div>\n",
              "<style scoped>\n",
              "    .dataframe tbody tr th:only-of-type {\n",
              "        vertical-align: middle;\n",
              "    }\n",
              "\n",
              "    .dataframe tbody tr th {\n",
              "        vertical-align: top;\n",
              "    }\n",
              "\n",
              "    .dataframe thead th {\n",
              "        text-align: right;\n",
              "    }\n",
              "</style>\n",
              "<table border=\"1\" class=\"dataframe\">\n",
              "  <thead>\n",
              "    <tr style=\"text-align: right;\">\n",
              "      <th></th>\n",
              "      <th>Participant</th>\n",
              "      <th>Price</th>\n",
              "      <th>Software</th>\n",
              "      <th>Aesthetics</th>\n",
              "      <th>Brand</th>\n",
              "    </tr>\n",
              "  </thead>\n",
              "  <tbody>\n",
              "    <tr>\n",
              "      <th>0</th>\n",
              "      <td>P1</td>\n",
              "      <td>6</td>\n",
              "      <td>5</td>\n",
              "      <td>3</td>\n",
              "      <td>4</td>\n",
              "    </tr>\n",
              "    <tr>\n",
              "      <th>1</th>\n",
              "      <td>P2</td>\n",
              "      <td>7</td>\n",
              "      <td>3</td>\n",
              "      <td>2</td>\n",
              "      <td>2</td>\n",
              "    </tr>\n",
              "    <tr>\n",
              "      <th>2</th>\n",
              "      <td>P3</td>\n",
              "      <td>6</td>\n",
              "      <td>4</td>\n",
              "      <td>4</td>\n",
              "      <td>5</td>\n",
              "    </tr>\n",
              "    <tr>\n",
              "      <th>3</th>\n",
              "      <td>P4</td>\n",
              "      <td>5</td>\n",
              "      <td>7</td>\n",
              "      <td>1</td>\n",
              "      <td>3</td>\n",
              "    </tr>\n",
              "    <tr>\n",
              "      <th>4</th>\n",
              "      <td>P5</td>\n",
              "      <td>7</td>\n",
              "      <td>7</td>\n",
              "      <td>5</td>\n",
              "      <td>5</td>\n",
              "    </tr>\n",
              "  </tbody>\n",
              "</table>\n",
              "</div>"
            ],
            "text/plain": [
              "  Participant  Price  Software  Aesthetics  Brand\n",
              "0          P1      6         5           3      4\n",
              "1          P2      7         3           2      2\n",
              "2          P3      6         4           4      5\n",
              "3          P4      5         7           1      3\n",
              "4          P5      7         7           5      5"
            ]
          },
          "metadata": {
            "tags": []
          },
          "execution_count": 3
        }
      ]
    },
    {
      "cell_type": "code",
      "metadata": {
        "id": "tVYltP27Zysm",
        "colab_type": "code",
        "colab": {
          "base_uri": "https://localhost:8080/",
          "height": 510
        },
        "outputId": "4cc4c726-2af9-44c2-91a0-811c32fe9412"
      },
      "source": [
        "data = df.values; print('data size is ',data.shape); data = data[:,1:]\n",
        "x = np.zeros([1,len(data[0,:])])\n",
        "for i in range(0,len(data[0,:])):\n",
        "    x[:,i] = np.mean(data[:,i])\n",
        "    \n",
        "I = np.ones(data.shape); print('size of I is ',I.shape)\n",
        "mean_matrix = I*x; print('mean_matrix size is ',mean_matrix.shape)\n",
        "print('the mean of the columns of data is ',x)\n",
        "\n",
        "X = data - mean_matrix; print('\\nWe obtain the mean centered data matrix as follows:\\n\\n',X)\n",
        "print('\\nand size of it is ',X.shape)\n",
        "print('\\nThe sum of all of the components of X : ',np.sum(X),'\\n it means that this data is \"well-mean centered\"')"
      ],
      "execution_count": 4,
      "outputs": [
        {
          "output_type": "stream",
          "text": [
            "data size is  (16, 5)\n",
            "size of I is  (16, 4)\n",
            "mean_matrix size is  (16, 4)\n",
            "the mean of the columns of data is  [[4.1875 5.0625 4.5    4.6875]]\n",
            "\n",
            "We obtain the mean centered data matrix as follows:\n",
            "\n",
            " [[1.8125 -0.0625 -1.5 -0.6875]\n",
            " [2.8125 -2.0625 -2.5 -2.6875]\n",
            " [1.8125 -1.0625 -0.5 0.3125]\n",
            " [0.8125 1.9375 -3.5 -1.6875]\n",
            " [2.8125 1.9375 0.5 0.3125]\n",
            " [1.8125 -1.0625 -2.5 -1.6875]\n",
            " [0.8125 1.9375 -2.5 -3.6875]\n",
            " [1.8125 -0.0625 -0.5 -0.6875]\n",
            " [-1.1875 -0.0625 1.5 2.3125]\n",
            " [-3.1875 -2.0625 2.5 0.3125]\n",
            " [-2.1875 0.9375 1.5 2.3125]\n",
            " [0.8125 1.9375 2.5 1.3125]\n",
            " [-2.1875 -1.0625 0.5 1.3125]\n",
            " [-1.1875 -0.0625 1.5 0.3125]\n",
            " [-3.1875 0.9375 0.5 0.3125]\n",
            " [-2.1875 -2.0625 2.5 2.3125]]\n",
            "\n",
            "and size of it is  (16, 4)\n",
            "\n",
            "The sum of all of the components of X :  0.0 \n",
            " it means that this data is \"well-mean centered\"\n"
          ],
          "name": "stdout"
        }
      ]
    },
    {
      "cell_type": "markdown",
      "metadata": {
        "id": "YPivlQ3uZ7lV",
        "colab_type": "text"
      },
      "source": [
        "#### Note that :\n",
        "Look for a few $(p<n)$ derived variables that preserve most of the information\n",
        "given by these variances and covariances (or correlations)."
      ]
    },
    {
      "cell_type": "markdown",
      "metadata": {
        "id": "BkyL8jJrZ8NV",
        "colab_type": "text"
      },
      "source": [
        "#### (Additional) : calculate covariance matrix of $X$ for Eigendecomposition\n",
        "#### <center>$\\sum = \\frac 1{n-1}X^T X $</center>"
      ]
    },
    {
      "cell_type": "code",
      "metadata": {
        "id": "GKaP3JmeaDHe",
        "colab_type": "code",
        "colab": {
          "base_uri": "https://localhost:8080/",
          "height": 1000
        },
        "outputId": "60169be5-a9de-4743-9259-e956ff3f5ad7"
      },
      "source": [
        "print('Now the data type of X is ',X.dtype)\n",
        "X = X.astype(np.float64); print('The modified dtype of X is ',X.dtype)\n",
        "\n",
        "# Singular Vector Decomposition\n",
        "U,S,V = np.linalg.svd(X)\n",
        "\n",
        "print('\\n## Singular Value Decomposition ##\\n')\n",
        "print('U_size = ',U.shape,', S_size = ',S.shape,', V_size = ',V.shape)\n",
        "print('--------------------------------------------------------')\n",
        "\n",
        "variance_ev = np.zeros([1,len(S)])\n",
        "for i in range(len(S)):\n",
        "    variance_ev[:,i] = S[i]**2/(len(X[:,0])-1)\n",
        "    print('Standard Deviation of PCs no.{} : {}'.format(i+1,np.sqrt(variance_ev[:,i])))\n",
        "    \n",
        "s = variance_ev/np.sum(variance_ev)\n",
        "\n",
        "for i in range(0,len(S)):\n",
        "    print('Variance of PCs % no.{} : {}%'.format(i+1,s[:,i]))\n",
        "\n",
        "print('\\n')\n",
        "print('Sum of all variances : ',np.sum(s))\n",
        "print('\\n')\n",
        "\n",
        "print('## finding \"p\" satisfying Sp >= 80 ##')\n",
        "print('------------------------------------------------------------------------------------------')\n",
        "Sp = np.zeros([1,len(S)])\n",
        "for i in range(0,len(S)):\n",
        "    Sp[:,i] = np.sum(S[:i]**2)/np.sum(S**2)\n",
        "    print('find \"p\" as the number of column number reducing dimension : column no.{} = {}%'.format(i+1,Sp[:,i]))\n",
        "\n",
        "PC1 = V[:,:3]; Z = X@PC1\n",
        "print('\\n')\n",
        "print('Dimension reduced data is \\n\\n',Z, '\\n\\nand the size of it is ',Z.shape)\n",
        "\n",
        "import matplotlib.pyplot as plt\n",
        "plt.figure(1)\n",
        "plt.plot([[1,2,3,4]],s,'r-o');plt.grid();\n",
        "plt.title('Variance of PCs');\n",
        "plt.xlabel('order'); plt.ylabel('variance');\n",
        "\n",
        "plt.figure(2)\n",
        "plt.scatter(Z[:,0],Z[:,1],color = 'b');plt.grid();\n",
        "plt.title('Plot of the score of the data on first two PCs');\n",
        "plt.xlabel('PC 1'); plt.ylabel('PC 2');"
      ],
      "execution_count": 7,
      "outputs": [
        {
          "output_type": "stream",
          "text": [
            "Now the data type of X is  object\n",
            "The modified dtype of X is  float64\n",
            "\n",
            "## Singular Value Decomposition ##\n",
            "\n",
            "U_size =  (16, 16) , S_size =  (4,) , V_size =  (4, 4)\n",
            "--------------------------------------------------------\n",
            "Standard Deviation of PCs no.1 : [3.05353618]\n",
            "Standard Deviation of PCs no.2 : [1.48718027]\n",
            "Standard Deviation of PCs no.3 : [1.36845699]\n",
            "Standard Deviation of PCs no.4 : [0.71580055]\n",
            "Variance of PCs % no.1 : [0.66979347]%\n",
            "Variance of PCs % no.2 : [0.15887735]%\n",
            "Variance of PCs % no.3 : [0.13452316]%\n",
            "Variance of PCs % no.4 : [0.03680602]%\n",
            "\n",
            "\n",
            "Sum of all variances :  1.0\n",
            "\n",
            "\n",
            "## finding \"p\" satisfying Sp >= 80 ##\n",
            "------------------------------------------------------------------------------------------\n",
            "find \"p\" as the number of column number reducing dimension : column no.1 = [0.]%\n",
            "find \"p\" as the number of column number reducing dimension : column no.2 = [0.66979347]%\n",
            "find \"p\" as the number of column number reducing dimension : column no.3 = [0.82867082]%\n",
            "find \"p\" as the number of column number reducing dimension : column no.4 = [0.96319398]%\n",
            "\n",
            "\n",
            "Dimension reduced data is \n",
            "\n",
            " [[-0.078946   -1.0735845   1.0905235 ]\n",
            " [-0.82775698 -3.43286009  0.12085525]\n",
            " [-1.11289397 -1.3466621   1.18401634]\n",
            " [ 2.63585361 -0.39786466  0.97718002]\n",
            " [-1.27927189  1.58774701  2.27391125]\n",
            " [ 0.19776511 -2.46903259  0.46200852]\n",
            " [ 1.82711122  0.10026832 -0.69864499]\n",
            " [-0.78541315 -0.53341668  0.77258444]\n",
            " [-0.25763646  0.93561294  0.35763293]\n",
            " [-0.6320836  -0.0176853  -3.06381576]\n",
            " [ 0.71674802  1.87842301  0.01984323]\n",
            " [-1.44953648  2.90619455  1.10637457]\n",
            " [ 0.6148407  -0.35128791 -0.87618282]\n",
            " [-0.35991169  0.89357809 -1.00025302]\n",
            " [ 1.916706    1.40476758 -1.62540442]\n",
            " [-1.12557442 -0.08419769 -1.10062904]] \n",
            "\n",
            "and the size of it is  (16, 3)\n"
          ],
          "name": "stdout"
        },
        {
          "output_type": "display_data",
          "data": {
            "image/png": "[encoded data removed]",
            "text/plain": [
              "<Figure size 432x288 with 1 Axes>"
            ]
          },
          "metadata": {
            "tags": []
          }
        },
        {
          "output_type": "display_data",
          "data": {
            "image/png": "[encoded data removed]",
            "text/plain": [
              "<Figure size 432x288 with 1 Axes>"
            ]
          },
          "metadata": {
            "tags": []
          }
        }
      ]
    }
  ]
}